{
 "cells": [
  {
   "cell_type": "markdown",
   "metadata": {},
   "source": [
    "1. Для нашего пайплайна (Case1) поэкспериментировать с разными моделями: 1 - бустинг, 2 - логистическая регрессия (не забудьте здесь добавить в cont_transformer стандартизацию - нормирование вещественных признаков)\n",
    "2. Отобрать лучшую модель по метрикам (кстати, какая по вашему мнению здесь наиболее подходящая DS-метрика)\n",
    "3. Для отобранной модели (на отложенной выборке) сделать оценку экономической эффективности при тех же вводных, как в вопросе 2 (1 доллар на привлечение, 2 доллара - с каждого правильно классифицированного (True Positive) удержанного). (подсказка) нужно посчитать FP/TP/FN/TN для выбранного оптимального порога вероятности и посчитать выручку и траты.\n",
    "4. (опционально) Провести подбор гиперпараметров лучшей модели по итогам 2-3\n",
    "5. (опционально) Еще раз провести оценку экономической эффективности"
   ]
  },
  {
   "cell_type": "code",
   "execution_count": 75,
   "metadata": {},
   "outputs": [],
   "source": [
    "import pandas as pd\n",
    "import numpy as np\n",
    "from sklearn.pipeline import Pipeline, make_pipeline, FeatureUnion\n",
    "from sklearn.base import BaseEstimator, TransformerMixin\n",
    "from sklearn.linear_model import LogisticRegression\n",
    "from sklearn.model_selection import train_test_split, cross_val_score, GridSearchCV\n",
    "\n",
    "from sklearn.preprocessing import StandardScaler\n",
    "from sklearn.metrics import precision_recall_curve, roc_auc_score, log_loss, confusion_matrix\n",
    "from sklearn.ensemble import GradientBoostingRegressor\n",
    "import itertools\n",
    "\n",
    "from prettytable import PrettyTable\n",
    "import matplotlib.pyplot as plt\n",
    "\n",
    "%matplotlib inline"
   ]
  },
  {
   "cell_type": "code",
   "execution_count": 76,
   "metadata": {},
   "outputs": [
    {
     "data": {
      "text/html": [
       "<div>\n",
       "<style scoped>\n",
       "    .dataframe tbody tr th:only-of-type {\n",
       "        vertical-align: middle;\n",
       "    }\n",
       "\n",
       "    .dataframe tbody tr th {\n",
       "        vertical-align: top;\n",
       "    }\n",
       "\n",
       "    .dataframe thead th {\n",
       "        text-align: right;\n",
       "    }\n",
       "</style>\n",
       "<table border=\"1\" class=\"dataframe\">\n",
       "  <thead>\n",
       "    <tr style=\"text-align: right;\">\n",
       "      <th></th>\n",
       "      <th>RowNumber</th>\n",
       "      <th>CustomerId</th>\n",
       "      <th>Surname</th>\n",
       "      <th>CreditScore</th>\n",
       "      <th>Geography</th>\n",
       "      <th>Gender</th>\n",
       "      <th>Age</th>\n",
       "      <th>Tenure</th>\n",
       "      <th>Balance</th>\n",
       "      <th>NumOfProducts</th>\n",
       "      <th>HasCrCard</th>\n",
       "      <th>IsActiveMember</th>\n",
       "      <th>EstimatedSalary</th>\n",
       "      <th>Exited</th>\n",
       "    </tr>\n",
       "  </thead>\n",
       "  <tbody>\n",
       "    <tr>\n",
       "      <th>0</th>\n",
       "      <td>1</td>\n",
       "      <td>15634602</td>\n",
       "      <td>Hargrave</td>\n",
       "      <td>619</td>\n",
       "      <td>France</td>\n",
       "      <td>Female</td>\n",
       "      <td>42</td>\n",
       "      <td>2</td>\n",
       "      <td>0.00</td>\n",
       "      <td>1</td>\n",
       "      <td>1</td>\n",
       "      <td>1</td>\n",
       "      <td>101348.88</td>\n",
       "      <td>1</td>\n",
       "    </tr>\n",
       "    <tr>\n",
       "      <th>1</th>\n",
       "      <td>2</td>\n",
       "      <td>15647311</td>\n",
       "      <td>Hill</td>\n",
       "      <td>608</td>\n",
       "      <td>Spain</td>\n",
       "      <td>Female</td>\n",
       "      <td>41</td>\n",
       "      <td>1</td>\n",
       "      <td>83807.86</td>\n",
       "      <td>1</td>\n",
       "      <td>0</td>\n",
       "      <td>1</td>\n",
       "      <td>112542.58</td>\n",
       "      <td>0</td>\n",
       "    </tr>\n",
       "    <tr>\n",
       "      <th>2</th>\n",
       "      <td>3</td>\n",
       "      <td>15619304</td>\n",
       "      <td>Onio</td>\n",
       "      <td>502</td>\n",
       "      <td>France</td>\n",
       "      <td>Female</td>\n",
       "      <td>42</td>\n",
       "      <td>8</td>\n",
       "      <td>159660.80</td>\n",
       "      <td>3</td>\n",
       "      <td>1</td>\n",
       "      <td>0</td>\n",
       "      <td>113931.57</td>\n",
       "      <td>1</td>\n",
       "    </tr>\n",
       "  </tbody>\n",
       "</table>\n",
       "</div>"
      ],
      "text/plain": [
       "   RowNumber  CustomerId   Surname  CreditScore Geography  Gender  Age  \\\n",
       "0          1    15634602  Hargrave          619    France  Female   42   \n",
       "1          2    15647311      Hill          608     Spain  Female   41   \n",
       "2          3    15619304      Onio          502    France  Female   42   \n",
       "\n",
       "   Tenure    Balance  NumOfProducts  HasCrCard  IsActiveMember  \\\n",
       "0       2       0.00              1          1               1   \n",
       "1       1   83807.86              1          0               1   \n",
       "2       8  159660.80              3          1               0   \n",
       "\n",
       "   EstimatedSalary  Exited  \n",
       "0        101348.88       1  \n",
       "1        112542.58       0  \n",
       "2        113931.57       1  "
      ]
     },
     "execution_count": 76,
     "metadata": {},
     "output_type": "execute_result"
    }
   ],
   "source": [
    "df = pd.read_csv(\"churn_data.csv\")\n",
    "df.head(3)"
   ]
  },
  {
   "cell_type": "code",
   "execution_count": 77,
   "metadata": {},
   "outputs": [],
   "source": [
    "#разделим данные на train/test\n",
    "X_train, X_test, y_train, y_test = train_test_split(df, df['Exited'], random_state=0)"
   ]
  },
  {
   "cell_type": "code",
   "execution_count": 78,
   "metadata": {},
   "outputs": [],
   "source": [
    "#соберем наш простой pipeline, но нам понадобится написать класс для выбора нужного поля\n",
    "class FeatureSelector(BaseEstimator, TransformerMixin):\n",
    "    def __init__(self, column):\n",
    "        self.column = column\n",
    "\n",
    "    def fit(self, X, y=None):\n",
    "        return self\n",
    "\n",
    "    def transform(self, X, y=None):\n",
    "        return X[self.column]\n",
    "    \n",
    "class NumberSelector(BaseEstimator, TransformerMixin):\n",
    "    \"\"\"\n",
    "    Transformer to select a single column from the data frame to perform additional transformations on\n",
    "    Use on numeric columns in the data\n",
    "    \"\"\"\n",
    "    def __init__(self, key):\n",
    "        self.key = key\n",
    "\n",
    "    def fit(self, X, y=None):\n",
    "        return self\n",
    "\n",
    "    def transform(self, X):\n",
    "        return X[[self.key]]\n",
    "    \n",
    "class OHEEncoder(BaseEstimator, TransformerMixin):\n",
    "    def __init__(self, key):\n",
    "        self.key = key\n",
    "        self.columns = []\n",
    "\n",
    "    def fit(self, X, y=None):\n",
    "        self.columns = [col for col in pd.get_dummies(X, prefix=self.key).columns]\n",
    "        return self\n",
    "\n",
    "    def transform(self, X):\n",
    "        X = pd.get_dummies(X, prefix=self.key)\n",
    "        test_columns = [col for col in X.columns]\n",
    "        for col_ in self.columns:\n",
    "            if col_ not in test_columns:\n",
    "                X[col_] = 0\n",
    "        return X[self.columns]"
   ]
  },
  {
   "cell_type": "code",
   "execution_count": 79,
   "metadata": {},
   "outputs": [],
   "source": [
    "categorical_columns = ['Geography', 'Gender', 'Tenure', 'HasCrCard', 'IsActiveMember']\n",
    "continuous_columns = ['CreditScore', 'Age', 'Balance', 'NumOfProducts', 'EstimatedSalary']"
   ]
  },
  {
   "cell_type": "code",
   "execution_count": 80,
   "metadata": {},
   "outputs": [],
   "source": [
    "final_transformers = list()\n",
    "\n",
    "for cat_col in categorical_columns:\n",
    "    cat_transformer = Pipeline([\n",
    "                ('selector', FeatureSelector(column=cat_col)),\n",
    "                ('ohe', OHEEncoder(key=cat_col))\n",
    "            ])\n",
    "    final_transformers.append((cat_col, cat_transformer))\n",
    "    \n",
    "for cont_col in continuous_columns:\n",
    "    cont_transformer = Pipeline([\n",
    "                ('selector', NumberSelector(key=cont_col)),\n",
    "                ('standard', StandardScaler())\n",
    "            ])\n",
    "    final_transformers.append((cont_col, cont_transformer))\n"
   ]
  },
  {
   "cell_type": "code",
   "execution_count": 81,
   "metadata": {},
   "outputs": [],
   "source": [
    "feats = FeatureUnion(final_transformers)\n",
    "b=1\n",
    "score = []"
   ]
  },
  {
   "cell_type": "code",
   "execution_count": 82,
   "metadata": {},
   "outputs": [],
   "source": [
    "# Логистическая регрессия\n",
    "lr_classifier = Pipeline([\n",
    "    ('features',feats),\n",
    "    ('classifier', LogisticRegression(random_state = 42)),\n",
    "])\n",
    "\n",
    "#запустим кросс-валидацию\n",
    "cv_scores = cross_val_score(lr_classifier, X_train, y_train, cv=16, scoring='roc_auc')\n",
    "\n",
    "#обучим пайплайн на всем тренировочном датасете\n",
    "lr_classifier.fit(X_train, y_train)\n",
    "y_score = lr_classifier.predict_proba(X_test)[:, 1]\n",
    "\n",
    "precision, recall, thresholds = precision_recall_curve(y_test.values, y_score)\n",
    "fscore = (1+b**2)*(precision * recall) / (b**2*precision + recall)\n",
    "\n",
    "cv_score = np.mean(cv_scores)\n",
    "roc_auc = roc_auc_score(y_true=y_test, y_score=y_score)\n",
    "log_los = log_loss(y_true=y_test, y_pred=y_score)\n",
    "\n",
    "# найдем индекс с максимальным fscore\n",
    "ix = np.argmax(fscore)\n",
    "\n",
    "score.append(['LogisticRegression', thresholds[ix] , fscore[ix], precision[ix], recall[ix], cv_score, roc_auc, log_los])"
   ]
  },
  {
   "cell_type": "code",
   "execution_count": 83,
   "metadata": {},
   "outputs": [],
   "source": [
    "# Градиентный бустинг\n",
    "gb_classifier = Pipeline([\n",
    "    ('features',feats),\n",
    "    ('classifier', GradientBoostingRegressor(random_state=42,\n",
    "                                    min_samples_split=2)),\n",
    "     ])\n",
    "\n",
    "#запустим кросс-валидацию\n",
    "cv_scores = cross_val_score(gb_classifier, X_train, y_train, cv=16, scoring='roc_auc')\n",
    "cv_score = np.mean(cv_scores)\n",
    "\n",
    "#обучим пайплайн на всем тренировочном датасете\n",
    "gb_classifier.fit(X_train, y_train)\n",
    "y_score = gb_classifier.predict(X_test)\n",
    "\n",
    "precision, recall, thresholds = precision_recall_curve(y_test.values, y_score)\n",
    "fscore = (1+b**2)*(precision * recall) / (b**2*precision + recall)\n",
    "\n",
    "cv_score = np.mean(cv_scores)\n",
    "roc_auc = roc_auc_score(y_test, y_score)\n",
    "log_los = log_loss(y_test.values, y_score)\n",
    "\n",
    "# найдем индекс с максимальным fscore\n",
    "ix = np.argmax(fscore)\n",
    "\n",
    "score.append(['GradientBoosting', thresholds[ix] , fscore[ix], precision[ix], recall[ix], cv_score, roc_auc, log_los])"
   ]
  },
  {
   "cell_type": "code",
   "execution_count": 84,
   "metadata": {},
   "outputs": [
    {
     "name": "stdout",
     "output_type": "stream",
     "text": [
      "+--------------------+-----------+---------+-----------+---------+----------+---------+----------+\n",
      "|      algoritm      | threshold |  fscore | precision |  recall | cv score | roc auc | log loss |\n",
      "+--------------------+-----------+---------+-----------+---------+----------+---------+----------+\n",
      "| LogisticRegression |  0.28952  | 0.50970 |  0.46240  | 0.56778 | 0.76172  | 0.77208 | 0.42678  |\n",
      "|  GradientBoosting  |  0.36022  | 0.64646 |  0.66528  | 0.62868 | 0.85909  | 0.87016 | 0.39268  |\n",
      "+--------------------+-----------+---------+-----------+---------+----------+---------+----------+\n"
     ]
    }
   ],
   "source": [
    "mytable = PrettyTable()\n",
    "mytable.align = \"r\"\n",
    "values = ['threshold', 'fscore', 'precision', 'recall', 'cv score', 'roc auc', 'log loss']\n",
    "for val in values:\n",
    "    mytable.float_format[val] = \".5\"\n",
    "# имена полей таблицы\n",
    "mytable.field_names = ['algoritm'] + values \n",
    "# добавление данных по одной строке за раз\n",
    "for i in range(2):\n",
    "    mytable.add_row([elem for elem in score[i]])\n",
    "# вывод таблицы \n",
    "print(mytable)"
   ]
  },
  {
   "cell_type": "code",
   "execution_count": 85,
   "metadata": {},
   "outputs": [
    {
     "data": {
      "text/plain": [
       "{'classifier__learning_rate': 0.1,\n",
       " 'classifier__max_depth': 4,\n",
       " 'classifier__min_samples_leaf': 3,\n",
       " 'classifier__n_estimators': 50}"
      ]
     },
     "execution_count": 85,
     "metadata": {},
     "output_type": "execute_result"
    }
   ],
   "source": [
    "# GradientBoosting лучшая из двух моделей. Наиболее подходящая DS-метрика здесь precision (доля правильно классифициованных \n",
    "# удержанных клиентов) и cv_score среднее всех roc_auc при кроссвалидации\n",
    "# подберем оптимальные гиперпараметры для лучшей модели\n",
    "\n",
    "params={'classifier__n_estimators':[50,75,100,125],\n",
    "        'classifier__max_depth':np.arange(3, 7, 1),\n",
    "        'classifier__min_samples_leaf':[1, 2, 3],\n",
    "        'classifier__learning_rate':[0.1,1]\n",
    "        }\n",
    "\n",
    "grid = GridSearchCV(gb_classifier,\n",
    "                    param_grid=params,\n",
    "                    cv=3,\n",
    "                    scoring='roc_auc',\n",
    "                    refit=False)\n",
    "\n",
    "search = grid.fit(X_train, y_train)\n",
    "search.best_params_"
   ]
  },
  {
   "cell_type": "code",
   "execution_count": 86,
   "metadata": {},
   "outputs": [],
   "source": [
    "# Градиентный бустинг с оптимальными параметрами\n",
    "opt_gb_classifier = Pipeline([\n",
    "    ('features',feats),\n",
    "    ('classifier', GradientBoostingRegressor(random_state=42,\n",
    "                                    min_samples_split=2,\n",
    "                                    max_depth=4,\n",
    "                                    min_samples_leaf=3,\n",
    "                                    n_estimators=50,         \n",
    "                                    criterion='mse')),\n",
    "     ])\n",
    "\n",
    "#запустим кросс-валидацию\n",
    "cv_scores = cross_val_score(opt_gb_classifier, X_train, y_train, cv=16, scoring='roc_auc')\n",
    "cv_score = np.mean(cv_scores)\n",
    "\n",
    "#обучим пайплайн на всем тренировочном датасете\n",
    "opt_gb_classifier.fit(X_train, y_train)\n",
    "y_score = opt_gb_classifier.predict(X_test)\n",
    "\n",
    "precision, recall, thresholds = precision_recall_curve(y_test.values, y_score)\n",
    "fscore = (1+b**2)*(precision * recall) / (b**2*precision + recall)\n",
    "\n",
    "cv_score = np.mean(cv_scores)\n",
    "roc_auc = roc_auc_score(y_test, y_score)\n",
    "log_los = log_loss(y_test.values, y_score)\n",
    "\n",
    "# найдем индекс с максимальным fscore\n",
    "ix = np.argmax(fscore)\n",
    "\n",
    "score.append(['OptGradientBoosting', thresholds[ix] , fscore[ix], precision[ix], recall[ix], cv_score, roc_auc, log_los])"
   ]
  },
  {
   "cell_type": "code",
   "execution_count": 87,
   "metadata": {},
   "outputs": [
    {
     "name": "stdout",
     "output_type": "stream",
     "text": [
      "+---------------------+-----------+---------+-----------+---------+----------+---------+----------+\n",
      "|       algoritm      | threshold |  fscore | precision |  recall | cv score | roc auc | log loss |\n",
      "+---------------------+-----------+---------+-----------+---------+----------+---------+----------+\n",
      "|  LogisticRegression |  0.28952  | 0.50970 |  0.46240  | 0.56778 | 0.76172  | 0.77208 | 0.42678  |\n",
      "|   GradientBoosting  |  0.36022  | 0.64646 |  0.66528  | 0.62868 | 0.85909  | 0.87016 | 0.39268  |\n",
      "| OptGradientBoosting |  0.33253  | 0.64162 |  0.62949  | 0.65422 | 0.86188  | 0.87417 | 0.35207  |\n",
      "+---------------------+-----------+---------+-----------+---------+----------+---------+----------+\n"
     ]
    }
   ],
   "source": [
    "mytable = PrettyTable()\n",
    "mytable.align = \"r\"\n",
    "values = ['threshold', 'fscore', 'precision', 'recall', 'cv score', 'roc auc', 'log loss']\n",
    "for val in values:\n",
    "    mytable.float_format[val] = \".5\"\n",
    "# имена полей таблицы\n",
    "mytable.field_names = ['algoritm'] + values \n",
    "# добавление данных по одной строке за раз\n",
    "for i in range(3):\n",
    "    mytable.add_row([elem for elem in score[i]])\n",
    "# вывод таблицы \n",
    "print(mytable)"
   ]
  },
  {
   "cell_type": "code",
   "execution_count": 88,
   "metadata": {},
   "outputs": [
    {
     "name": "stdout",
     "output_type": "stream",
     "text": [
      "Confusion matrix, without normalization\n",
      "[[1795  196]\n",
      " [ 177  332]]\n"
     ]
    },
    {
     "data": {
      "image/png": "[encoded data removed]",
      "text/plain": [
       "<Figure size 576x432 with 2 Axes>"
      ]
     },
     "metadata": {
      "needs_background": "light"
     },
     "output_type": "display_data"
    }
   ],
   "source": [
    "def plot_confusion_matrix(cm, classes,\n",
    "                          normalize=False,\n",
    "                          title='Confusion matrix',\n",
    "                          cmap=plt.cm.Blues):\n",
    "    \"\"\"\n",
    "    This function prints and plots the confusion matrix.\n",
    "    Normalization can be applied by setting `normalize=True`.\n",
    "    \"\"\"\n",
    "    plt.imshow(cm, interpolation='nearest', cmap=cmap)\n",
    "    plt.title(title)\n",
    "    plt.colorbar()\n",
    "    tick_marks = np.arange(len(classes))\n",
    "    plt.xticks(tick_marks, classes, rotation=45)\n",
    "    plt.yticks(tick_marks, classes)\n",
    "\n",
    "    if normalize:\n",
    "        cm = cm.astype('float') / cm.sum(axis=1)[:, np.newaxis]\n",
    "        print(\"Normalized confusion matrix\")\n",
    "    else:\n",
    "        print('Confusion matrix, without normalization')\n",
    "\n",
    "    print(cm)\n",
    "\n",
    "    thresh = cm.max() / 2.\n",
    "    for i, j in itertools.product(range(cm.shape[0]), range(cm.shape[1])):\n",
    "        plt.text(j, i, cm[i, j],\n",
    "                 horizontalalignment=\"center\",\n",
    "                 color=\"white\" if cm[i, j] > thresh else \"black\")\n",
    "\n",
    "    plt.tight_layout()\n",
    "    plt.ylabel('True label')\n",
    "    plt.xlabel('Predicted label')\n",
    "\n",
    "font = {'size' : 14}\n",
    "\n",
    "plt.rc('font', **font)\n",
    "\n",
    "cnf_matrix = confusion_matrix(y_test, y_score>thresholds[ix])\n",
    "plt.figure(figsize=(8, 6))\n",
    "plot_confusion_matrix(cnf_matrix, classes=['NonChurn', 'Churn'],\n",
    "                      title='Confusion matrix')\n",
    "plt.savefig(\"conf_matrix.png\")\n",
    "plt.show()"
   ]
  },
  {
   "cell_type": "code",
   "execution_count": 90,
   "metadata": {},
   "outputs": [],
   "source": [
    "TN = cnf_matrix[0][0]\n",
    "FN = cnf_matrix[1][0]\n",
    "TP = cnf_matrix[1][1]\n",
    "FP = cnf_matrix[0][1]"
   ]
  },
  {
   "cell_type": "code",
   "execution_count": 91,
   "metadata": {},
   "outputs": [
    {
     "name": "stdout",
     "output_type": "stream",
     "text": [
      "TN=1795, FN=177, TP=332, FP=196\n"
     ]
    }
   ],
   "source": [
    "print(f'TN={TN}, FN={FN}, TP={TP}, FP={FP}')"
   ]
  },
  {
   "cell_type": "markdown",
   "metadata": {},
   "source": [
    "Те кого мы правильно предсказали принесли нам 2 доллара, т.е. $2 \\cdot TP$. Минус затраты на всех предсказанных в отток клиентов $1 \\cdot (TP+FP)$."
   ]
  },
  {
   "cell_type": "code",
   "execution_count": 92,
   "metadata": {},
   "outputs": [
    {
     "name": "stdout",
     "output_type": "stream",
     "text": [
      "экономическая эффективность равна 136\n"
     ]
    }
   ],
   "source": [
    "print(f'экономическая эффективность равна {2*TP-(TP+FP)}')"
   ]
  }
 ],
 "metadata": {
  "kernelspec": {
   "display_name": "Python 3",
   "language": "python",
   "name": "python3"
  },
  "language_info": {
   "codemirror_mode": {
    "name": "ipython",
    "version": 3
   },
   "file_extension": ".py",
   "mimetype": "text/x-python",
   "name": "python",
   "nbconvert_exporter": "python",
   "pygments_lexer": "ipython3",
   "version": "3.8.3"
  }
 },
 "nbformat": 4,
 "nbformat_minor": 4
}

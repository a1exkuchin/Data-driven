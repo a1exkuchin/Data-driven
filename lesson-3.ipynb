{
 "cells": [
  {
   "cell_type": "markdown",
   "metadata": {},
   "source": [
    "1. обучить несколько разных моделей на наборе данных ССЗ (train_case2.csv): логрег, бустинг, лес и т.д - на ваш выбор 2-3 варианта\n",
    "2. при обучении моделей обязательно использовать кроссвалидацию\n",
    "3. вывести сравнение полученных моделей по основным метрикам классификации: pr/rec/auc/f_score (можно в виде таблицы, где строки - модели, а столбцы - метрики)\n",
    "4. сделать выводы о том, какая модель справилась с задачей лучше других"
   ]
  },
  {
   "cell_type": "code",
   "execution_count": 220,
   "metadata": {},
   "outputs": [],
   "source": [
    "import numpy as np\n",
    "import pandas as pd\n",
    "import matplotlib.pyplot as plt\n",
    "import itertools\n",
    "\n",
    "from sklearn.preprocessing import StandardScaler\n",
    "from sklearn.metrics import precision_recall_curve, roc_auc_score, log_loss, confusion_matrix\n",
    "from sklearn.linear_model import LogisticRegression\n",
    "from sklearn.model_selection import cross_val_score, train_test_split\n",
    "from sklearn.pipeline import Pipeline, FeatureUnion\n",
    "from sklearn.base import BaseEstimator, TransformerMixin\n",
    "from sklearn.ensemble import RandomForestRegressor, GradientBoostingRegressor\n",
    "\n",
    "from prettytable import PrettyTable"
   ]
  },
  {
   "cell_type": "code",
   "execution_count": 221,
   "metadata": {},
   "outputs": [],
   "source": [
    "#загрузим данные в датафрейм\n",
    "df = pd.read_csv('train_case2.csv', ';')"
   ]
  },
  {
   "cell_type": "code",
   "execution_count": 222,
   "metadata": {},
   "outputs": [],
   "source": [
    "#разделим данные на train/test\n",
    "X_train, X_test, y_train, y_test = train_test_split(df.drop('cardio', 1), \n",
    "                                                    df['cardio'], random_state=21)"
   ]
  },
  {
   "cell_type": "code",
   "execution_count": 223,
   "metadata": {},
   "outputs": [],
   "source": [
    "class ColumnSelector(BaseEstimator, TransformerMixin):\n",
    "    \"\"\"\n",
    "    Transformer to select a single column from the data frame to perform additional transformations on\n",
    "    \"\"\"\n",
    "    def __init__(self, key):\n",
    "        self.key = key\n",
    "\n",
    "    def fit(self, X, y=None):\n",
    "        return self\n",
    "\n",
    "    def transform(self, X):\n",
    "        return X[self.key]\n",
    "    \n",
    "class NumberSelector(BaseEstimator, TransformerMixin):\n",
    "    \"\"\"\n",
    "    Transformer to select a single column from the data frame to perform additional transformations on\n",
    "    Use on numeric columns in the data\n",
    "    \"\"\"\n",
    "    def __init__(self, key):\n",
    "        self.key = key\n",
    "\n",
    "    def fit(self, X, y=None):\n",
    "        return self\n",
    "\n",
    "    def transform(self, X):\n",
    "        return X[[self.key]]\n",
    "    \n",
    "class OHEEncoder(BaseEstimator, TransformerMixin):\n",
    "    def __init__(self, key):\n",
    "        self.key = key\n",
    "        self.columns = []\n",
    "\n",
    "    def fit(self, X, y=None):\n",
    "        self.columns = [col for col in pd.get_dummies(X, prefix=self.key).columns]\n",
    "        return self\n",
    "\n",
    "    def transform(self, X):\n",
    "        X = pd.get_dummies(X, prefix=self.key)\n",
    "        test_columns = [col for col in X.columns]\n",
    "        for col_ in test_columns:\n",
    "            if col_ not in self.columns:\n",
    "                X[col_] = 0\n",
    "        return X[self.columns]\n",
    "\n"
   ]
  },
  {
   "cell_type": "code",
   "execution_count": 224,
   "metadata": {},
   "outputs": [],
   "source": [
    "class FeatureGenetator():\n",
    "    \"\"\"Генерация новых фич\"\"\"\n",
    "    def __init__(self):\n",
    "        pass\n",
    "        \n",
    "    def fit(self, X):\n",
    "        pass\n",
    "      \n",
    "    def transform(self, X):\n",
    "        \n",
    "        # imt - индекс массы тела\n",
    "        X['imt'] = X['weight']/(X['height']/100)**2\n",
    "       \n",
    "        return X\n",
    "\n",
    "class DataPreprocessing:\n",
    "    \"\"\"Подготовка исходных данных\"\"\"\n",
    "\n",
    "    def __init__(self):\n",
    "        \"\"\"Параметры класса\"\"\"\n",
    "        self.imt_quantile_1 = None\n",
    "        self.imt_quantile_99 = None\n",
    "        \n",
    "    def fit(self, X):\n",
    "        \"\"\"Сохранение статистик\"\"\"       \n",
    "        # Расчет статистик\n",
    "        self.imt_quantile_1 = X['imt'].quantile(.01)\n",
    "        self.imt_quantile_99 = X['imt'].quantile(.99)\n",
    "    \n",
    "    def transform(self, X):\n",
    "        \"\"\"Трансформация данных\"\"\"\n",
    "        #imt \n",
    "        cond1 = (X['imt'] < self.imt_quantile_1)\n",
    "        cond2 = (X['imt'] > self.imt_quantile_99)\n",
    "        X.loc[cond1, 'imt'] = self.imt_quantile_1 \n",
    "        X.loc[cond2, 'imt'] = self.imt_quantile_99  \n",
    "     \n",
    "        return X"
   ]
  },
  {
   "cell_type": "code",
   "execution_count": 225,
   "metadata": {},
   "outputs": [],
   "source": [
    "# делаем предобработку (создаем новые признаки и делаем препроцессинг данных)\n",
    "features_gen = FeatureGenetator()\n",
    "X_train = features_gen.transform(X_train)\n",
    "X_test = features_gen.transform(X_test)\n",
    "\n",
    "preprocessor = DataPreprocessing()\n",
    "preprocessor.fit(X_train)\n",
    "X_train = preprocessor.transform(X_train)\n",
    "X_test = preprocessor.transform(X_test)"
   ]
  },
  {
   "cell_type": "code",
   "execution_count": 226,
   "metadata": {},
   "outputs": [],
   "source": [
    "#Создадим трансформеры\n",
    "continuos_cols = ['age', 'imt', 'ap_hi', 'ap_lo']\n",
    "cat_cols = ['gender', 'cholesterol']\n",
    "base_cols = ['gluc', 'smoke', 'alco', 'active']\n",
    "\n",
    "continuos_transformers = []\n",
    "cat_transformers = []\n",
    "base_transformers = []\n",
    "\n",
    "for cont_col in continuos_cols:\n",
    "    transfomer =  Pipeline([\n",
    "                ('selector', NumberSelector(key=cont_col)),\n",
    "                ('standard', StandardScaler())\n",
    "            ])\n",
    "    continuos_transformers.append((cont_col, transfomer))\n",
    "    \n",
    "for cat_col in cat_cols:\n",
    "    cat_transformer = Pipeline([\n",
    "                ('selector', ColumnSelector(key=cat_col)),\n",
    "                ('ohe', OHEEncoder(key=cat_col))\n",
    "            ])\n",
    "    cat_transformers.append((cat_col, cat_transformer))\n",
    "    \n",
    "for base_col in base_cols:\n",
    "    base_transformer = Pipeline([\n",
    "                ('selector', NumberSelector(key=base_col))\n",
    "            ])\n",
    "    base_transformers.append((base_col, base_transformer))"
   ]
  },
  {
   "cell_type": "code",
   "execution_count": 227,
   "metadata": {},
   "outputs": [],
   "source": [
    "#Объединим все наши трансформеры с помощью FeatureUnion\n",
    "feats = FeatureUnion(continuos_transformers+cat_transformers+base_transformers)\n",
    "feature_processing = Pipeline([('feats', feats)])"
   ]
  },
  {
   "cell_type": "code",
   "execution_count": 228,
   "metadata": {},
   "outputs": [],
   "source": [
    "# создадим список, который будет хранить значения метрик\n",
    "score = []\n",
    "# будем максимизировать recall\n",
    "b = 1.25"
   ]
  },
  {
   "cell_type": "code",
   "execution_count": 229,
   "metadata": {},
   "outputs": [],
   "source": [
    "# Логистическая регрессия\n",
    "classifier = Pipeline([\n",
    "    ('features',feats),\n",
    "    ('classifier', LogisticRegression(random_state = 42)),\n",
    "])\n",
    "\n",
    "#запустим кросс-валидацию\n",
    "cv_scores = cross_val_score(classifier, X_train, y_train, cv=16, scoring='roc_auc')\n",
    "\n",
    "#обучим пайплайн на всем тренировочном датасете\n",
    "classifier.fit(X_train, y_train)\n",
    "y_score = classifier.predict_proba(X_test)[:, 1]\n",
    "\n",
    "precision, recall, thresholds = precision_recall_curve(y_test.values, y_score)\n",
    "fscore = (1+b**2)*(precision * recall) / (b**2*precision + recall)\n",
    "\n",
    "cv_score = np.mean(cv_scores)\n",
    "roc_auc = roc_auc_score(y_true=y_test, y_score=classifier.predict_proba(X_test)[:,1])\n",
    "log_los = log_loss(y_true=y_test, y_pred=classifier.predict_proba(X_test)[:,1])\n",
    "\n",
    "# найдем индекс с максимальным fscore\n",
    "ix = np.argmax(fscore)\n",
    "\n",
    "score.append(['LogisticRegression', thresholds[ix] , fscore[ix], precision[ix], recall[ix], cv_score, roc_auc, log_los])"
   ]
  },
  {
   "cell_type": "code",
   "execution_count": 230,
   "metadata": {},
   "outputs": [],
   "source": [
    "# Случайный лес\n",
    "classifier = Pipeline([\n",
    "    ('features',feats),\n",
    "    ('classifier', RandomForestRegressor(random_state=42,\n",
    "                                 criterion='mse',\n",
    "                                 n_estimators=60,\n",
    "                                 min_samples_split=2,\n",
    "                                 min_samples_leaf=2,\n",
    "                                 max_features='sqrt',\n",
    "                                 max_depth=9,\n",
    "                                 bootstrap=False)),\n",
    "])\n",
    "\n",
    "#запустим кросс-валидацию\n",
    "cv_scores = cross_val_score(classifier, X_train, y_train, cv=16, scoring='roc_auc')\n",
    "\n",
    "#обучим пайплайн на всем тренировочном датасете\n",
    "classifier.fit(X_train, y_train)\n",
    "y_score = classifier.predict(X_test)\n",
    "\n",
    "precision, recall, thresholds = precision_recall_curve(y_test.values, y_score)\n",
    "fscore = (1+b**2)*(precision * recall) / (b**2*precision + recall)\n",
    "\n",
    "cv_score = np.mean(cv_scores)\n",
    "roc_auc = roc_auc_score(y_test, y_score)\n",
    "log_los = log_loss(y_test.values, y_score)\n",
    "\n",
    "#найдем индекс с максимальным fscore\n",
    "ix = np.argmax(fscore)\n",
    "\n",
    "score.append(['RandomForest', thresholds[ix] , fscore[ix], precision[ix], recall[ix], cv_score, roc_auc, log_los])"
   ]
  },
  {
   "cell_type": "code",
   "execution_count": 231,
   "metadata": {},
   "outputs": [],
   "source": [
    "# Градиентный бустинг\n",
    "classifier = Pipeline([\n",
    "    ('features',feats),\n",
    "    ('classifier', GradientBoostingRegressor(random_state=42,\n",
    "                                    n_estimators=60,\n",
    "                                    min_samples_split=2,\n",
    "                                    min_samples_leaf=2,\n",
    "                                    max_features='sqrt',\n",
    "                                    max_depth=5,\n",
    "                                    criterion='mse')),\n",
    "     ])\n",
    "\n",
    "#запустим кросс-валидацию\n",
    "cv_scores = cross_val_score(classifier, X_train, y_train, cv=16, scoring='roc_auc')\n",
    "cv_score = np.mean(cv_scores)\n",
    "\n",
    "#обучим пайплайн на всем тренировочном датасете\n",
    "classifier.fit(X_train, y_train)\n",
    "y_score = classifier.predict(X_test)\n",
    "\n",
    "precision, recall, thresholds = precision_recall_curve(y_test.values, y_score)\n",
    "fscore = (1+b**2)*(precision * recall) / (b**2*precision + recall)\n",
    "\n",
    "cv_score = np.mean(cv_scores)\n",
    "roc_auc = roc_auc_score(y_test, y_score)\n",
    "log_los = log_loss(y_test.values, y_score)\n",
    "\n",
    "# найдем индекс с максимальным fscore\n",
    "ix = np.argmax(fscore)\n",
    "\n",
    "score.append(['GradientBoosting', thresholds[ix] , fscore[ix], precision[ix], recall[ix], cv_score, roc_auc, log_los])"
   ]
  },
  {
   "cell_type": "code",
   "execution_count": 232,
   "metadata": {},
   "outputs": [
    {
     "name": "stdout",
     "output_type": "stream",
     "text": [
      "+--------------------+-----------+---------+-----------+---------+----------+---------+----------+\n",
      "|      algoritm      | threshold |  fscore | precision |  recall | cv score | roc auc | log loss |\n",
      "+--------------------+-----------+---------+-----------+---------+----------+---------+----------+\n",
      "| LogisticRegression |  0.32870  | 0.75918 |  0.60864  | 0.90197 | 0.78650  | 0.78436 | 0.57806  |\n",
      "|    RandomForest    |  0.30213  | 0.76542 |  0.64037  | 0.87474 | 0.80119  | 0.80018 | 0.54330  |\n",
      "|  GradientBoosting  |  0.29132  | 0.76472 |  0.63262  | 0.88269 | 0.80238  | 0.80145 | 0.54077  |\n",
      "+--------------------+-----------+---------+-----------+---------+----------+---------+----------+\n"
     ]
    }
   ],
   "source": [
    "mytable = PrettyTable()\n",
    "mytable.align = \"r\"\n",
    "values = ['threshold', 'fscore', 'precision', 'recall', 'cv score', 'roc auc', 'log loss']\n",
    "for val in values:\n",
    "    mytable.float_format[val] = \".5\"\n",
    "# имена полей таблицы\n",
    "mytable.field_names = ['algoritm'] + values \n",
    "# добавление данных по одной строке за раз\n",
    "for i in range(3):\n",
    "    mytable.add_row([elem for elem in score[i]])\n",
    "# вывод таблицы \n",
    "print(mytable)"
   ]
  },
  {
   "cell_type": "markdown",
   "metadata": {},
   "source": [
    "Видим, что лучше всех с задачей справилась модель градиентного бустинга (у нее лучшие показатели cv score, roc auc и log loss)."
   ]
  },
  {
   "cell_type": "code",
   "execution_count": 235,
   "metadata": {},
   "outputs": [
    {
     "name": "stdout",
     "output_type": "stream",
     "text": [
      "Предсказания градиентного бустинга\n",
      "Confusion matrix, without normalization\n",
      "[[4168 4518]\n",
      " [1035 7779]]\n"
     ]
    },
    {
     "data": {
      "image/png": "[encoded data removed]",
      "text/plain": [
       "<Figure size 360x288 with 2 Axes>"
      ]
     },
     "metadata": {
      "needs_background": "light"
     },
     "output_type": "display_data"
    }
   ],
   "source": [
    "def plot_confusion_matrix(cm, classes,\n",
    "                          normalize=False,\n",
    "                          title='Confusion matrix',\n",
    "                          cmap=plt.cm.Blues):\n",
    "    \"\"\"\n",
    "    This function prints and plots the confusion matrix.\n",
    "    Normalization can be applied by setting `normalize=True`.\n",
    "    \"\"\"\n",
    "    plt.imshow(cm, interpolation='nearest', cmap=cmap)\n",
    "    plt.title(title)\n",
    "    plt.colorbar()\n",
    "    tick_marks = np.arange(len(classes))\n",
    "    plt.xticks(tick_marks, classes, rotation=45)\n",
    "    plt.yticks(tick_marks, classes)\n",
    "\n",
    "    if normalize:\n",
    "        cm = cm.astype('float') / cm.sum(axis=1)[:, np.newaxis]\n",
    "        print(\"Normalized confusion matrix\")\n",
    "    else:\n",
    "        print('Confusion matrix, without normalization')\n",
    "\n",
    "    print(cm)\n",
    "\n",
    "    thresh = cm.max() / 2.\n",
    "    for i, j in itertools.product(range(cm.shape[0]), range(cm.shape[1])):\n",
    "        plt.text(j, i, cm[i, j],\n",
    "                 horizontalalignment=\"center\",\n",
    "                 color=\"white\" if cm[i, j] > thresh else \"black\")\n",
    "\n",
    "    plt.tight_layout()\n",
    "    plt.ylabel('True label')\n",
    "    plt.xlabel('Predicted label')\n",
    "    \n",
    "print(f'Предсказания градиентного бустинга')\n",
    "font = {'size' : 10}\n",
    "plt.rc('font', **font)\n",
    "cnf_matrix = confusion_matrix(y_test, y_score>score[2][1])\n",
    "plt.figure(figsize=(5, 4))\n",
    "plot_confusion_matrix(cnf_matrix, classes=['cardio_0', 'cardio_1'], title='Confusion matrix')\n",
    "plt.savefig(\"conf_matrix.png\")\n",
    "plt.show()\n"
   ]
  },
  {
   "cell_type": "code",
   "execution_count": 236,
   "metadata": {},
   "outputs": [
    {
     "data": {
      "text/plain": [
       "(0.882573179033356, 0.5201473635735666, 0.47985263642643333)"
      ]
     },
     "execution_count": 236,
     "metadata": {},
     "output_type": "execute_result"
    }
   ],
   "source": [
    "TN = cnf_matrix[0][0]\n",
    "FN = cnf_matrix[1][0]\n",
    "TP = cnf_matrix[1][1]\n",
    "FP = cnf_matrix[0][1]\n",
    "\n",
    "TPR = TP/(TP+FN)\n",
    "FPR = FP/(FP+TN)\n",
    "TNR = TN/(FP+TN)\n",
    "TPR, FPR, TNR"
   ]
  },
  {
   "cell_type": "markdown",
   "metadata": {},
   "source": [
    "52 процента всех пациентов получат метку 1 (болен) при том, что они на самом деле здоровы.\n",
    "\n",
    "В нашей задаче мы определяем, болен ли пациент (0 - здоров, 1 - болен), поэтому мы стараемся избежать ошибок false negative, требуя recall около 0.9. Можно сказать человеку, что он болен, и при дальнейшей диагностике выявить ошибку; гораздо хуже пропустить наличие болезни.\n",
    "\n",
    "Рассмотрим задачу выделения объектов класса 1 из множества всех объектов (классов 1 и 0). Допустим, что всего имеется 1000100 объектов, из которых лишь 100 относятся к классу 1. Если нам удастся построить алгоритм, идеально решающий задачу, то его TPR будет равен единице, а FPR — нулю. Рассмотрим плохой алгоритм, дающий положительный ответ на 95 объектах класса 1 и 50000 - на объектах класса 0. Такой алгоритм совершенно бесполезен, но при этом имеет TPR = 0.95 и FPR = 0.05, что крайне близко\n",
    "к показателям идеального алгоритма. Таким образом, если класс 1 существенно меньше по размеру класса 0, то\n",
    "AUC-ROC может давать неадекватную оценку качества работы алгоритма, поскольку измеряет долю неверно принятых объектов относительно общего числа отрицательных. "
   ]
  }
 ],
 "metadata": {
  "kernelspec": {
   "display_name": "Python 3",
   "language": "python",
   "name": "python3"
  },
  "language_info": {
   "codemirror_mode": {
    "name": "ipython",
    "version": 3
   },
   "file_extension": ".py",
   "mimetype": "text/x-python",
   "name": "python",
   "nbconvert_exporter": "python",
   "pygments_lexer": "ipython3",
   "version": "3.8.5"
  }
 },
 "nbformat": 4,
 "nbformat_minor": 4
}
